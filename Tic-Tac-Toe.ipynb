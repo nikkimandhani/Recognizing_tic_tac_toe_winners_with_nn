{
 "cells": [
  {
   "cell_type": "code",
   "execution_count": 1,
   "metadata": {},
   "outputs": [],
   "source": [
    "import numpy as np\n",
    "import pandas as pd\n",
    "\n",
    "from sklearn.preprocessing import LabelEncoder,OneHotEncoder\n",
    "from sklearn.model_selection import train_test_split\n"
   ]
  },
  {
   "cell_type": "code",
   "execution_count": 3,
   "metadata": {},
   "outputs": [],
   "source": [
    "from keras.models import Sequential\n",
    "from keras.layers import Dense,Activation"
   ]
  },
  {
   "cell_type": "code",
   "execution_count": 5,
   "metadata": {},
   "outputs": [],
   "source": [
    "data = pd.read_csv('tic-tac-toe.csv')"
   ]
  },
  {
   "cell_type": "code",
   "execution_count": 7,
   "metadata": {},
   "outputs": [],
   "source": [
    "X = data.iloc[:,0:9].values\n",
    "Y = data.iloc[:,9:10].values"
   ]
  },
  {
   "cell_type": "code",
   "execution_count": 14,
   "metadata": {},
   "outputs": [],
   "source": [
    "#Encode categorical values\n",
    "labelencoder_x = LabelEncoder()\n",
    "for i in range(9):\n",
    "    X[:,i] = labelencoder_x.fit_transform(X[:,i])\n"
   ]
  },
  {
   "cell_type": "code",
   "execution_count": 12,
   "metadata": {},
   "outputs": [
    {
     "name": "stdout",
     "output_type": "stream",
     "text": [
      "[[1. 0. 0. 1. 1. 0. 0. 1. 1. 0. 0. 1. 1. 0. 0. 1. 0. 1. 0. 1. 0. 1. 0. 0.\n",
      "  1. 1. 0.]\n",
      " [1. 0. 0. 1. 1. 0. 0. 1. 1. 0. 0. 1. 1. 0. 0. 1. 0. 1. 0. 1. 0. 1. 0. 1.\n",
      "  0. 0. 1.]\n",
      " [1. 0. 0. 1. 1. 0. 0. 1. 1. 0. 0. 1. 1. 0. 0. 1. 0. 1. 0. 1. 0. 1. 0. 0.\n",
      "  0. 0. 0.]\n",
      " [1. 0. 0. 1. 1. 0. 0. 1. 1. 0. 0. 1. 1. 0. 0. 1. 0. 1. 0. 1. 0. 0. 0. 1.\n",
      "  0. 0. 0.]]\n"
     ]
    }
   ],
   "source": [
    "\n",
    "onehotencoder = OneHotEncoder(categorical_features=[0,1,2,3,4,5,6,7,8])\n",
    "X = onehotencoder.fit_transform(X).toarray()\n",
    "print(X[0:4,:])"
   ]
  },
  {
   "cell_type": "code",
   "execution_count": 15,
   "metadata": {},
   "outputs": [
    {
     "name": "stdout",
     "output_type": "stream",
     "text": [
      "[[0. 0. 1. 0. 1. 1. 0. 1. 0. 0. 0. 1. 1. 0. 0. 0. 1. 0.]\n",
      " [0. 0. 1. 0. 1. 1. 0. 1. 0. 0. 0. 1. 1. 0. 0. 1. 0. 1.]\n",
      " [0. 0. 1. 0. 1. 1. 0. 1. 0. 0. 0. 1. 1. 0. 0. 0. 0. 0.]\n",
      " [0. 0. 1. 0. 1. 1. 0. 1. 0. 0. 0. 1. 1. 0. 0. 1. 0. 0.]]\n"
     ]
    }
   ],
   "source": [
    "#only 2 bits are required to represent 3 possibilties...remove 3's multiple column \n",
    "X = np.delete(X,[0,3,6,9,12,15,18,21,24],axis =1)\n",
    "print(X[0:4,:])"
   ]
  },
  {
   "cell_type": "code",
   "execution_count": 16,
   "metadata": {},
   "outputs": [],
   "source": [
    "labelencoder_y =LabelEncoder()\n",
    "Y[:, 0] = labelencoder_y.fit_transform(y[:, 0])"
   ]
  },
  {
   "cell_type": "code",
   "execution_count": 17,
   "metadata": {},
   "outputs": [],
   "source": [
    "X_train, X_test, y_train, y_test = train_test_split(X, y, test_size=0.2, random_state=42)\n"
   ]
  },
  {
   "cell_type": "code",
   "execution_count": 19,
   "metadata": {},
   "outputs": [],
   "source": [
    "model = Sequential()\n",
    "model.add(Dense(9,input_dim = 18,activation = 'relu'))\n",
    "model.add(Dense(9,activation='relu'))\n",
    "model.add(Dense(1,activation = 'sigmoid'))"
   ]
  },
  {
   "cell_type": "code",
   "execution_count": 20,
   "metadata": {},
   "outputs": [],
   "source": [
    "model.compile(optimizer='adam', loss='binary_crossentropy', metrics=['accuracy'])"
   ]
  },
  {
   "cell_type": "code",
   "execution_count": 21,
   "metadata": {},
   "outputs": [
    {
     "name": "stdout",
     "output_type": "stream",
     "text": [
      "Epoch 1/100\n",
      "957/957 [==============================] - 1s 1ms/step - loss: 0.6548 - acc: 0.6416\n",
      "Epoch 2/100\n",
      "957/957 [==============================] - 0s 225us/step - loss: 0.6047 - acc: 0.7095\n",
      "Epoch 3/100\n",
      "957/957 [==============================] - 0s 227us/step - loss: 0.5733 - acc: 0.7085\n",
      "Epoch 4/100\n",
      "957/957 [==============================] - 0s 213us/step - loss: 0.5371 - acc: 0.7398\n",
      "Epoch 5/100\n",
      "957/957 [==============================] - 0s 219us/step - loss: 0.5123 - acc: 0.7388\n",
      "Epoch 6/100\n",
      "957/957 [==============================] - 0s 234us/step - loss: 0.4915 - acc: 0.7618\n",
      "Epoch 7/100\n",
      "957/957 [==============================] - 0s 217us/step - loss: 0.4732 - acc: 0.7649\n",
      "Epoch 8/100\n",
      "957/957 [==============================] - 0s 229us/step - loss: 0.4586 - acc: 0.7879\n",
      "Epoch 9/100\n",
      "957/957 [==============================] - 0s 238us/step - loss: 0.4410 - acc: 0.8025\n",
      "Epoch 10/100\n",
      "957/957 [==============================] - 0s 242us/step - loss: 0.4247 - acc: 0.8067\n",
      "Epoch 11/100\n",
      "957/957 [==============================] - 0s 231us/step - loss: 0.4123 - acc: 0.8161\n",
      "Epoch 12/100\n",
      "957/957 [==============================] - 0s 241us/step - loss: 0.3947 - acc: 0.8349\n",
      "Epoch 13/100\n",
      "957/957 [==============================] - 0s 233us/step - loss: 0.3810 - acc: 0.8318\n",
      "Epoch 14/100\n",
      "957/957 [==============================] - 0s 212us/step - loss: 0.3680 - acc: 0.8422\n",
      "Epoch 15/100\n",
      "957/957 [==============================] - 0s 354us/step - loss: 0.3576 - acc: 0.8464\n",
      "Epoch 16/100\n",
      "957/957 [==============================] - 0s 377us/step - loss: 0.3462 - acc: 0.8537\n",
      "Epoch 17/100\n",
      "957/957 [==============================] - 0s 347us/step - loss: 0.3363 - acc: 0.8579\n",
      "Epoch 18/100\n",
      "957/957 [==============================] - 0s 280us/step - loss: 0.3250 - acc: 0.8610\n",
      "Epoch 19/100\n",
      "957/957 [==============================] - 0s 237us/step - loss: 0.3128 - acc: 0.8652\n",
      "Epoch 20/100\n",
      "957/957 [==============================] - 0s 243us/step - loss: 0.3045 - acc: 0.8694\n",
      "Epoch 21/100\n",
      "957/957 [==============================] - 0s 236us/step - loss: 0.2973 - acc: 0.8715\n",
      "Epoch 22/100\n",
      "957/957 [==============================] - 0s 230us/step - loss: 0.2885 - acc: 0.8736\n",
      "Epoch 23/100\n",
      "957/957 [==============================] - 0s 240us/step - loss: 0.2808 - acc: 0.8819\n",
      "Epoch 24/100\n",
      "957/957 [==============================] - 0s 234us/step - loss: 0.2746 - acc: 0.8809\n",
      "Epoch 25/100\n",
      "957/957 [==============================] - 0s 241us/step - loss: 0.2660 - acc: 0.8871\n",
      "Epoch 26/100\n",
      "957/957 [==============================] - 0s 223us/step - loss: 0.2605 - acc: 0.8934\n",
      "Epoch 27/100\n",
      "957/957 [==============================] - 0s 241us/step - loss: 0.2552 - acc: 0.8986\n",
      "Epoch 28/100\n",
      "957/957 [==============================] - 0s 230us/step - loss: 0.2486 - acc: 0.8976\n",
      "Epoch 29/100\n",
      "957/957 [==============================] - 0s 229us/step - loss: 0.2441 - acc: 0.9091\n",
      "Epoch 30/100\n",
      "957/957 [==============================] - 0s 238us/step - loss: 0.2385 - acc: 0.9039\n",
      "Epoch 31/100\n",
      "957/957 [==============================] - 0s 230us/step - loss: 0.2312 - acc: 0.9101\n",
      "Epoch 32/100\n",
      "957/957 [==============================] - 0s 247us/step - loss: 0.2343 - acc: 0.9060\n",
      "Epoch 33/100\n",
      "957/957 [==============================] - 0s 234us/step - loss: 0.2224 - acc: 0.9133\n",
      "Epoch 34/100\n",
      "957/957 [==============================] - 0s 229us/step - loss: 0.2204 - acc: 0.9143\n",
      "Epoch 35/100\n",
      "957/957 [==============================] - 0s 242us/step - loss: 0.2152 - acc: 0.9248\n",
      "Epoch 36/100\n",
      "957/957 [==============================] - 0s 257us/step - loss: 0.2114 - acc: 0.9227\n",
      "Epoch 37/100\n",
      "957/957 [==============================] - 0s 237us/step - loss: 0.2100 - acc: 0.9279\n",
      "Epoch 38/100\n",
      "957/957 [==============================] - 0s 227us/step - loss: 0.2052 - acc: 0.9237\n",
      "Epoch 39/100\n",
      "957/957 [==============================] - 0s 244us/step - loss: 0.2026 - acc: 0.9300\n",
      "Epoch 40/100\n",
      "957/957 [==============================] - 0s 311us/step - loss: 0.1977 - acc: 0.9289\n",
      "Epoch 41/100\n",
      "957/957 [==============================] - 0s 318us/step - loss: 0.1963 - acc: 0.9289\n",
      "Epoch 42/100\n",
      "957/957 [==============================] - 0s 222us/step - loss: 0.1914 - acc: 0.9331\n",
      "Epoch 43/100\n",
      "957/957 [==============================] - 0s 287us/step - loss: 0.1880 - acc: 0.9300\n",
      "Epoch 44/100\n",
      "957/957 [==============================] - 0s 251us/step - loss: 0.1867 - acc: 0.9300\n",
      "Epoch 45/100\n",
      "957/957 [==============================] - 0s 241us/step - loss: 0.1843 - acc: 0.9352\n",
      "Epoch 46/100\n",
      "957/957 [==============================] - 0s 254us/step - loss: 0.1843 - acc: 0.9310\n",
      "Epoch 47/100\n",
      "957/957 [==============================] - 0s 236us/step - loss: 0.1774 - acc: 0.9404\n",
      "Epoch 48/100\n",
      "957/957 [==============================] - 0s 275us/step - loss: 0.1747 - acc: 0.9383\n",
      "Epoch 49/100\n",
      "957/957 [==============================] - 0s 239us/step - loss: 0.1729 - acc: 0.9342\n",
      "Epoch 50/100\n",
      "957/957 [==============================] - 0s 237us/step - loss: 0.1702 - acc: 0.9394\n",
      "Epoch 51/100\n",
      "957/957 [==============================] - 0s 244us/step - loss: 0.1678 - acc: 0.9404\n",
      "Epoch 52/100\n",
      "957/957 [==============================] - 0s 246us/step - loss: 0.1661 - acc: 0.9425\n",
      "Epoch 53/100\n",
      "957/957 [==============================] - 0s 291us/step - loss: 0.1647 - acc: 0.9394\n",
      "Epoch 54/100\n",
      "957/957 [==============================] - 0s 274us/step - loss: 0.1618 - acc: 0.9436\n",
      "Epoch 55/100\n",
      "957/957 [==============================] - 0s 261us/step - loss: 0.1585 - acc: 0.9457\n",
      "Epoch 56/100\n",
      "957/957 [==============================] - 0s 280us/step - loss: 0.1544 - acc: 0.9498\n",
      "Epoch 57/100\n",
      "957/957 [==============================] - 0s 259us/step - loss: 0.1548 - acc: 0.9467\n",
      "Epoch 58/100\n",
      "957/957 [==============================] - 0s 263us/step - loss: 0.1537 - acc: 0.9446\n",
      "Epoch 59/100\n",
      "957/957 [==============================] - 0s 273us/step - loss: 0.1525 - acc: 0.9467\n",
      "Epoch 60/100\n",
      "957/957 [==============================] - 0s 282us/step - loss: 0.1465 - acc: 0.9488\n",
      "Epoch 61/100\n",
      "957/957 [==============================] - 0s 260us/step - loss: 0.1471 - acc: 0.9498\n",
      "Epoch 62/100\n",
      "957/957 [==============================] - 0s 245us/step - loss: 0.1441 - acc: 0.9488\n",
      "Epoch 63/100\n",
      "957/957 [==============================] - 0s 243us/step - loss: 0.1413 - acc: 0.9540\n",
      "Epoch 64/100\n",
      "957/957 [==============================] - 0s 245us/step - loss: 0.1400 - acc: 0.9551\n",
      "Epoch 65/100\n",
      "957/957 [==============================] - 0s 245us/step - loss: 0.1375 - acc: 0.9540\n",
      "Epoch 66/100\n",
      "957/957 [==============================] - 0s 233us/step - loss: 0.1361 - acc: 0.9519\n",
      "Epoch 67/100\n",
      "957/957 [==============================] - 0s 285us/step - loss: 0.1349 - acc: 0.9530\n",
      "Epoch 68/100\n",
      "957/957 [==============================] - 0s 249us/step - loss: 0.1331 - acc: 0.9551\n",
      "Epoch 69/100\n",
      "957/957 [==============================] - 0s 240us/step - loss: 0.1298 - acc: 0.9551\n",
      "Epoch 70/100\n",
      "957/957 [==============================] - 0s 242us/step - loss: 0.1303 - acc: 0.9561\n",
      "Epoch 71/100\n",
      "957/957 [==============================] - 0s 252us/step - loss: 0.1267 - acc: 0.9582\n",
      "Epoch 72/100\n",
      "957/957 [==============================] - 0s 262us/step - loss: 0.1261 - acc: 0.9561\n",
      "Epoch 73/100\n",
      "957/957 [==============================] - 0s 252us/step - loss: 0.1256 - acc: 0.9561\n",
      "Epoch 74/100\n",
      "957/957 [==============================] - 0s 245us/step - loss: 0.1245 - acc: 0.9613\n",
      "Epoch 75/100\n",
      "957/957 [==============================] - 0s 250us/step - loss: 0.1232 - acc: 0.9592\n",
      "Epoch 76/100\n",
      "957/957 [==============================] - 0s 246us/step - loss: 0.1205 - acc: 0.9624\n",
      "Epoch 77/100\n",
      "957/957 [==============================] - 0s 260us/step - loss: 0.1202 - acc: 0.9561\n",
      "Epoch 78/100\n",
      "957/957 [==============================] - 0s 275us/step - loss: 0.1172 - acc: 0.9645\n",
      "Epoch 79/100\n",
      "957/957 [==============================] - 0s 260us/step - loss: 0.1147 - acc: 0.9603\n",
      "Epoch 80/100\n",
      "957/957 [==============================] - 0s 300us/step - loss: 0.1158 - acc: 0.9603\n",
      "Epoch 81/100\n",
      "957/957 [==============================] - 0s 252us/step - loss: 0.1121 - acc: 0.9666\n",
      "Epoch 82/100\n",
      "957/957 [==============================] - 0s 278us/step - loss: 0.1126 - acc: 0.9655\n",
      "Epoch 83/100\n"
     ]
    },
    {
     "name": "stdout",
     "output_type": "stream",
     "text": [
      "957/957 [==============================] - 0s 227us/step - loss: 0.1071 - acc: 0.9592\n",
      "Epoch 84/100\n",
      "957/957 [==============================] - 0s 230us/step - loss: 0.1082 - acc: 0.9634\n",
      "Epoch 85/100\n",
      "957/957 [==============================] - 0s 219us/step - loss: 0.1060 - acc: 0.9676\n",
      "Epoch 86/100\n",
      "957/957 [==============================] - 0s 218us/step - loss: 0.1040 - acc: 0.9697\n",
      "Epoch 87/100\n",
      "957/957 [==============================] - 0s 232us/step - loss: 0.1042 - acc: 0.9676\n",
      "Epoch 88/100\n",
      "957/957 [==============================] - 0s 241us/step - loss: 0.1019 - acc: 0.9645\n",
      "Epoch 89/100\n",
      "957/957 [==============================] - 0s 246us/step - loss: 0.0989 - acc: 0.9697\n",
      "Epoch 90/100\n",
      "957/957 [==============================] - 0s 211us/step - loss: 0.0983 - acc: 0.9707\n",
      "Epoch 91/100\n",
      "957/957 [==============================] - 0s 230us/step - loss: 0.0948 - acc: 0.9718\n",
      "Epoch 92/100\n",
      "957/957 [==============================] - 0s 215us/step - loss: 0.0965 - acc: 0.9676\n",
      "Epoch 93/100\n",
      "957/957 [==============================] - 0s 235us/step - loss: 0.0933 - acc: 0.9739\n",
      "Epoch 94/100\n",
      "957/957 [==============================] - 0s 313us/step - loss: 0.0914 - acc: 0.9676\n",
      "Epoch 95/100\n",
      "957/957 [==============================] - 0s 270us/step - loss: 0.0933 - acc: 0.9707\n",
      "Epoch 96/100\n",
      "957/957 [==============================] - 0s 223us/step - loss: 0.0889 - acc: 0.9781\n",
      "Epoch 97/100\n",
      "957/957 [==============================] - 0s 231us/step - loss: 0.0897 - acc: 0.9728\n",
      "Epoch 98/100\n",
      "957/957 [==============================] - 0s 258us/step - loss: 0.0901 - acc: 0.9718\n",
      "Epoch 99/100\n",
      "957/957 [==============================] - 0s 215us/step - loss: 0.0877 - acc: 0.9791\n",
      "Epoch 100/100\n",
      "957/957 [==============================] - 0s 218us/step - loss: 0.0861 - acc: 0.9770\n"
     ]
    },
    {
     "data": {
      "text/plain": [
       "<keras.callbacks.History at 0x7f3caacce2b0>"
      ]
     },
     "execution_count": 21,
     "metadata": {},
     "output_type": "execute_result"
    }
   ],
   "source": [
    "model.fit(X,Y,batch_size=10, epochs=100)"
   ]
  },
  {
   "cell_type": "code",
   "execution_count": 23,
   "metadata": {},
   "outputs": [
    {
     "name": "stdout",
     "output_type": "stream",
     "text": [
      "957/957 [==============================] - 0s 78us/step\n",
      "\n",
      "acc: 97.70%\n"
     ]
    }
   ],
   "source": [
    "scores = model.evaluate(X,Y)\n",
    "print(\"\\n%s: %.2f%%\" % (model.metrics_names[1], scores[1]*100))"
   ]
  },
  {
   "cell_type": "code",
   "execution_count": 24,
   "metadata": {},
   "outputs": [],
   "source": [
    "y_pred = model.predict(X_test)"
   ]
  },
  {
   "cell_type": "code",
   "execution_count": null,
   "metadata": {},
   "outputs": [],
   "source": []
  }
 ],
 "metadata": {
  "kernelspec": {
   "display_name": "Python 3",
   "language": "python",
   "name": "python3"
  },
  "language_info": {
   "codemirror_mode": {
    "name": "ipython",
    "version": 3
   },
   "file_extension": ".py",
   "mimetype": "text/x-python",
   "name": "python",
   "nbconvert_exporter": "python",
   "pygments_lexer": "ipython3",
   "version": "3.6.4"
  }
 },
 "nbformat": 4,
 "nbformat_minor": 2
}
